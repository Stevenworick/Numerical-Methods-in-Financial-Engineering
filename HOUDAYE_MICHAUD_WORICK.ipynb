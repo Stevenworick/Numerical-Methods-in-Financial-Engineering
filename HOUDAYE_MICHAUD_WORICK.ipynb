{
 "cells": [
  {
   "cell_type": "markdown",
   "metadata": {
    "id": "q8uKF_tI8lWW"
   },
   "source": [
    "# Numerical Methods in Financial Engineering\n",
    "### Laure MICHAUD & Tim HOUDAYE & Steven WORICK\n",
    "\n",
    "Implementation of the research paper **Pricing early-exercice and discrete barrier options by Fourier-cosine series expansions** from *F. Fang & C. W.  Oosterlee* (2009)\n"
   ]
  },
  {
   "cell_type": "markdown",
   "metadata": {
    "id": "u_EEzIlL7gVD"
   },
   "source": [
    "# Packages"
   ]
  },
  {
   "cell_type": "code",
   "execution_count": null,
   "metadata": {
    "id": "1DGoi1Cq7gCv"
   },
   "outputs": [],
   "source": [
    "import numpy as np\n",
    "import matplotlib.pylab as plt\n",
    "\n",
    "import scipy.integrate as integrate\n",
    "from scipy.special import gamma as gamma_func\n",
    "from scipy import optimize"
   ]
  },
  {
   "cell_type": "markdown",
   "metadata": {
    "id": "LwrGhVCm8zdU"
   },
   "source": [
    "#  Functions and Classes"
   ]
  },
  {
   "cell_type": "code",
   "execution_count": null,
   "metadata": {
    "id": "zrhOYnHG9VZN"
   },
   "outputs": [],
   "source": [
    "class SBM(object):\n",
    "    '''\n",
    "    Standard Brownian Motion Object\n",
    "    '''\n",
    "    def __init__(self, sigma, rf, mat):\n",
    "      '''\n",
    "      Initialize the class.\n",
    "      :param sigma: Volatility of the brownian motion\n",
    "      :param rf: Risk Free rate of the economy\n",
    "      :param mat: Maturity of the option\n",
    "      '''\n",
    "      self.sigma = sigma\n",
    "      self.rf = rf\n",
    "      self.mat = mat\n",
    "\n",
    "    def characteristic_function(self, grid):\n",
    "      '''\n",
    "      Characteristic function of the SBM\n",
    "      :grid: Integral discretization\n",
    "      :return: Values of SBM's characteristic function given a grid\n",
    "      '''\n",
    "      phi = np.exp(grid * self.rf * self.mat * 1j\n",
    "              - grid**2 * self.sigma**2 * self.mat / 2)\n",
    "      return phi\n",
    "\n",
    "    def integral_truncation(self):\n",
    "      '''\n",
    "      Truncation range to compute the ingration. Eq. 74 in the paper\n",
    "      :param x_0: log-moneyness ln(S_0/K)\n",
    "      :return: a and b, bound of integration\n",
    "      '''\n",
    "\n",
    "      L = 10\n",
    "      c1 = (self.rf - 0.5 * self.sigma**2 * self.mat)\n",
    "      c2 = self.sigma**2 * self.mat\n",
    "\n",
    "      a = c1 - L * c2**.5\n",
    "      b = c1 + L * c2**.5\n",
    "      return a, b"
   ]
  },
  {
   "cell_type": "code",
   "execution_count": null,
   "metadata": {
    "id": "RsUpUU89giQq"
   },
   "outputs": [],
   "source": [
    "class Heston(object):\n",
    "  def __init__(self, kappa, theta, rho, eta, rf, sigma, mat):\n",
    "    '''\n",
    "    :param kappa: Rate at which the dynamic return to its long term value\n",
    "    :param theta: Long variance, or long-run average variance of the price\n",
    "    :param rho: Correlation of the two Wienner processes\n",
    "    :param eta: Volatility of volatility\n",
    "    :param sigma: Initial variance of the asset price\n",
    "    :param rf: Risk free rate\n",
    "    :param mat: Maturity\n",
    "    '''\n",
    "    self.kappa = kappa\n",
    "    self.theta = theta\n",
    "    self.rho = rho\n",
    "    self.eta = eta\n",
    "    self.sigma = sigma\n",
    "    self.rf = rf\n",
    "    self.mat = mat\n",
    "    \n",
    "  \n",
    "  def characteristic_function(self, grid):\n",
    "    '''\n",
    "    Characteristic function of the Heston model\n",
    "    :grid: Integral discretization\n",
    "    :return: Values of Heston's characteristic function given a grid\n",
    "    '''\n",
    "    # Keep the parameters into variables in order to simplify the notation\n",
    "    kappa, theta, sigma  = self.kappa, self.theta, self.sigma, \n",
    "    rho, eta, rf, mat = self.rho, self.eta, self.rf, self.mat\n",
    "\n",
    "    # Compute D and G\n",
    "    D = np.sqrt( (kappa - 1j*rho*eta*grid)**2 + (grid**2 + 1j*grid)*eta**2 )\n",
    "    G = (kappa - 1j*rho*eta*grid - D) / (kappa - 1j*rho*eta*grid + D)\n",
    "\n",
    "    # Compute the two part of phi\n",
    "    first_part = np.exp( 1j*grid*rf*mat + sigma/eta**2 \\\n",
    "                        * ((1-np.exp(-D*mat)) / (1-G*np.exp(-D*mat))) \\\n",
    "                        * (kappa - 1j*rho*eta*grid - D) ) \n",
    "    \n",
    "    second_part = np.exp( kappa*theta/eta**2 \\\n",
    "                         * (mat * (kappa - 1j*rho*eta*grid - D) - 2*np.log((1-G*np.exp(-D*mat)) / (1-G))) )\n",
    "\n",
    "    # Construct the characteristic function of the Heston model\n",
    "    phi = first_part * second_part\n",
    "\n",
    "    return phi\n",
    "\n",
    "  def integral_truncation(self):\n",
    "    '''\n",
    "    Truncation range to compute the ingration. Eq. 74 in the paper\n",
    "    :param x_0: log-moneyness ln(S_0/K)\n",
    "    :return: a and b, bound of integration\n",
    "    '''\n",
    "\n",
    "    # Keep the parameters into variables in order to simplify the notation\n",
    "    kappa, theta, sigma  = self.kappa, self.theta, self.sigma\n",
    "    rho, eta, rf, mat = self.rho, self.eta, self.rf, self.mat\n",
    "\n",
    "    L = 12\n",
    "    c1 = rf * mat \\\n",
    "        + (1 - np.exp(-kappa * mat)) \\\n",
    "        * (theta - sigma)/2 / kappa - theta * mat / 2 \n",
    "\n",
    "    c2 = 1/(8 * kappa**3) \\\n",
    "        * (eta * mat * kappa * np.exp(-kappa * mat) \\\n",
    "        * (sigma - theta) * (8 * kappa * rho - 4 * eta) \\\n",
    "        + kappa * rho * eta * (1 - np.exp(-kappa * mat)) \\\n",
    "        * (16 * theta - 8 * sigma) + 2 * theta * kappa * mat \\\n",
    "        * (-4 * kappa * rho * eta + eta**2 + 4 * kappa**2) \\\n",
    "        + eta**2 * ((theta - 2 * sigma) * np.exp(-2*kappa*mat) \\\n",
    "        + theta * (6 * np.exp(-kappa*mat) - 7) + 2 * sigma) \\\n",
    "        + 8 * kappa**2 * (sigma - theta) * (1 - np.exp(-kappa*mat)))\n",
    "\n",
    "    a = c1 - L * np.abs(c2)**.5\n",
    "    b = c1 + L * np.abs(c2)**.5\n",
    "    return a, b"
   ]
  },
  {
   "cell_type": "code",
   "execution_count": null,
   "metadata": {
    "id": "b93tZI3JbRmU"
   },
   "outputs": [],
   "source": [
    "class Fourier_cosine_method(object):\n",
    "  def __init__(self, model, log_moneyness, call_option, grid_size):\n",
    "    '''\n",
    "    :param model: Model to be used to price the option\n",
    "    :param log_moneyness: Float or list of log-moneyness given a strike K and an underlying price S_0\n",
    "    :param call_option: Boolean to specify wether it is a call or a put option to price\n",
    "    :param grid_size: Number of point to be used on the grid\n",
    "    '''\n",
    "    self._model = model\n",
    "    self._log_moneyness = log_moneyness\n",
    "    self._grid_size = grid_size\n",
    "    self._call_option = call_option\n",
    "\n",
    "    # Get the bound of integration\n",
    "    self._a , self._b = self._model.integral_truncation()\n",
    "\n",
    "  def cosine_expansion(self):\n",
    "    '''\n",
    "    This function compute the price of an option given a certain model using the Fourier cosine expansion methods\n",
    "    :return: Option premium\n",
    "    '''\n",
    "\n",
    "    # Compute the k\n",
    "    k = np.arange(self._grid_size, dtype=complex)[:, np.newaxis]\n",
    "\n",
    "    # Compute V for the call and put option using the xhi and psi cosine series coefficients\n",
    "    if self._call_option:\n",
    "      xhi, psi = self.get_xhi_psi_coefficients(k, 0, self._b)\n",
    "      v_mat = 2 / (self._b - self._a) * (xhi - psi)\n",
    "    else:\n",
    "      xhi, psi = self.get_xhi_psi_coefficients(k, self._a, 0)\n",
    "      v_mat = 2 / (self._b - self._a) * (-xhi + psi)\n",
    "\n",
    "    # Compute the model characteristic function\n",
    "    char_mat = self._model.characteristic_function(k * np.pi/(self._b-self._a))\n",
    "\n",
    "    # Exponential part\n",
    "    exp_mat = np.exp(1j * k * np.pi * (self._a - self._log_moneyness)/(self._b - self._a))\n",
    "\n",
    "    # Grid of weight with 1/2 to start\n",
    "    weights = np.append(.5, np.ones(self._grid_size-1))\n",
    "\n",
    "    return np.exp(-self._model.rf * self._model.mat) * np.dot(weights, char_mat * exp_mat * v_mat).real\n",
    "  \n",
    "  def get_xhi_psi_coefficients(self, k, x_1, x_2):\n",
    "    '''\n",
    "    This function compute the xhi and psi function for given parameters.\n",
    "    :param k: Log-moneyness of the options\n",
    "    :param x_1: Lower bound of the inner integration interval\n",
    "    :param x_2: Upper bound of the inner integration interval\n",
    "    :return: The cosine series coefficients xhi and psi \n",
    "    '''\n",
    "\n",
    "    # Xhi cosine serie coefficients\n",
    "    xhi = (np.cos(k * np.pi * (x_2-self._a)/(self._b-self._a)) * np.exp(x_2) - np.cos(k * np.pi * (x_1-self._a)/(self._b-self._a)) * np.exp(x_1)\n",
    "          + k * np.pi/(self._b-self._a) * (np.sin(k * np.pi * (x_2-self._a)/(self._b-self._a)) * np.exp(x_2) - np.sin(k * np.pi * (x_1-self._a)/(self._b-self._a)) * np.exp(x_1)))\\\n",
    "          / (1 + (k * np.pi/(self._b-self._a))**2)\n",
    "\n",
    "    # Psi cosine serie coefficients\n",
    "    psi = (np.sin(k[1:] * np.pi * (x_2-self._a)/(self._b-self._a)) - np.sin(k[1:] * np.pi * (x_1-self._a)/(self._b-self._a))) / (k[1:] * np.pi/(self._b-self._a))\n",
    "    psi = np.vstack([(x_2 - x_1) * np.ones_like(self._a), psi])\n",
    "    return xhi, psi"
   ]
  },
  {
   "cell_type": "code",
   "execution_count": null,
   "metadata": {
    "id": "x1Aw2_bOdx0O"
   },
   "outputs": [],
   "source": [
    "class Fourier_cosine_method_bermuda(object):\n",
    "  def __init__(self, model, log_moneyness, grid_size, M, call_option):\n",
    "    '''\n",
    "    :param model: Model to be used to price the option\n",
    "    :param log_moneyness: Float or list of log-moneyness given a strike K and an underlying price S_0\n",
    "    :param grid_size: Number of point to be used on the grid\n",
    "    :param M: Number of early exercices time\n",
    "    :param call_option: Boolean to specify wether it is a call or a put option to price\n",
    "    '''\n",
    "    self._model = model\n",
    "    self._log_moneyness = log_moneyness\n",
    "    self._grid_size = grid_size\n",
    "    self._call_option = call_option\n",
    "    self._M = M\n",
    "\n",
    "    # Get the bound of integration\n",
    "    self._a , self._b = self._model.integral_truncation()\n",
    "\n",
    "  def cosine_expansion(self):\n",
    "    '''\n",
    "    This function compute the price of an option given a certain model using the Fourier cosine expansion methods\n",
    "    :return: Option premium\n",
    "    '''\n",
    "\n",
    "    # Compute the k\n",
    "    k = np.arange(self._grid_size, dtype=complex)[:, np.newaxis]\n",
    "\n",
    "    # Compute the payoff for the terminal time\n",
    "    if self._call_option:\n",
    "      xhi, psi = self.get_xhi_psi_coefficients(k, 0, self._b)\n",
    "      v_mat = 2 / (self._b - self._a) * (xhi - psi)\n",
    "    else:\n",
    "      xhi, psi = self.get_xhi_psi_coefficients(k, self._a, 0)\n",
    "      v_mat = 2 / (self._b - self._a) * (-xhi + psi)\n",
    "\n",
    "    # Compute the model characteristic function\n",
    "    char_mat = self._model.characteristic_function(k * np.pi/(self._b - self._a))\n",
    "\n",
    "    # Grid of weight with 1/2 to start\n",
    "    weights = np.append(.5, np.ones(self._grid_size-1))\n",
    "\n",
    "    # Loop on early exercice time\n",
    "    for t_m in range(self._M,1,-1):\n",
    "\n",
    "      # Approximation of the continuation function\n",
    "      c_hat = lambda x: np.exp(-self._model.rf * self._model.mat) * np.dot(weights, char_mat * np.exp(1j * k * np.pi * (self._a - x)/(self._b - self._a)) * v_mat).real\n",
    "\n",
    "      # Compute the x_star ***** DOESN'T WORK \n",
    "      #x_star = self.find_x_star(c_hat, k)\n",
    "\n",
    "      # We put a fixed value instead\n",
    "      #x_star = (self._b -  self._a)/2.0\n",
    "\n",
    "      # Upper bound\n",
    "      x_star = self._b\n",
    "\n",
    "      # Lower bound\n",
    "      #x_star = self._a\n",
    "\n",
    "      # Construct the u vector given v_mat for time t_m\n",
    "      u = self.get_u_vector(v_mat, k)\n",
    "\n",
    "      # Compute the G and C_hat matrix given x_star\n",
    "      if self._call_option:\n",
    "        xhi, psi = self.get_xhi_psi_coefficients(k, x_star, self._b)\n",
    "        G = 2 / (self._b - self._a) * (xhi - psi)\n",
    "        C_hat = self.get_C_hat_matrix(self._a, x_star, u)\n",
    "\n",
    "      else:\n",
    "        xhi, psi = self.get_xhi_psi_coefficients(k, self._a, x_star)\n",
    "        G = 2 / (self._b - self._a) * (xhi - psi)\n",
    "        C_hat = self.get_C_hat_matrix(x_star, self._b, u)\n",
    "\n",
    "      # Compute v_mat for time t_m\n",
    "      v_mat = G + C_hat\n",
    "\n",
    "    # Exponential part\n",
    "    exp_mat = np.exp(1j * k * np.pi * (self._a - log_moneyness)/(self._b - self._a))\n",
    "\n",
    "    # Reconstruct the final option price\n",
    "    return np.exp(-self._model.rf * self._model.mat) * np.dot(weights, char_mat * exp_mat * v_mat).real\n",
    "\n",
    "\n",
    "######################################################     \n",
    "#     FUNCTIONS TO COMPUTE THE VALUATION FUNCTION    #\n",
    "#                                                    #\n",
    "######################################################\n",
    "\n",
    "  def get_xhi_psi_coefficients(self, k, x_1, x_2):\n",
    "    '''\n",
    "    This function compute the xhi and psi function for given parameters.\n",
    "    :param k: Log-moneyness of the options\n",
    "    :param x_1: Lower bound of the inner integration interval\n",
    "    :param x_2: Upper bound of the inner integration interval\n",
    "    :return: The cosine series coefficients xhi and psi \n",
    "    '''\n",
    "\n",
    "    # Xhi cosine serie coefficients\n",
    "    xhi = (np.cos(k * np.pi * (x_2-self._a)/(self._b-self._a)) * np.exp(x_2) - np.cos(k * np.pi * (x_1-self._a)/(self._b-self._a)) * np.exp(x_1)\n",
    "          + k * np.pi/(self._b - self._a) * (np.sin(k * np.pi * (x_2-self._a)/(self._b-self._a)) * np.exp(x_2) - np.sin(k * np.pi * (x_1-self._a)/(self._b-self._a)) * np.exp(x_1)))\\\n",
    "          / (1 + (k * np.pi/(self._b-self._a))**2)\n",
    "\n",
    "    # Psi cosine serie coefficients\n",
    "    psi = (np.sin(k[1:] * np.pi * (x_2-self._a)/(self._b-self._a)) - np.sin(k[1:] * np.pi * (x_1-self._a)/(self._b-self._a))) / (k[1:] * np.pi/(self._b-self._a))\n",
    "    psi = np.vstack([(x_2 - x_1) * np.ones_like(self._a), psi])\n",
    "    return xhi, psi\n",
    "\n",
    "######################################################     \n",
    "#     FUNCTIONS TO COMPUTE FIND THE OPTIMAL          #\n",
    "#                   x VALUE                          #\n",
    "######################################################\n",
    "  \n",
    "  def get_payoff(self, x, k):\n",
    "    '''\n",
    "    Compute the payoff of a call or put option\n",
    "    :param x: Log price of the underlying asset\n",
    "    :param k: Strike of the option\n",
    "    :return: Payoff of the option\n",
    "    '''\n",
    "    put = np.logical_not(self._call_option)\n",
    "    return np.max((1*self._call_option - 1*put)*k*(1-np.exp(x)))\n",
    "  \n",
    "  def find_x_star(self, c, k):\n",
    "    '''\n",
    "    Function which will return the optimal x which solve c_hat = payoff\n",
    "    :param c: Approximation of the continuation function\n",
    "    :param k: Strike\n",
    "    :return: x_star the optimal value to solve the equation\n",
    "    '''\n",
    "    # Define the function to optim\n",
    "    optim = lambda x: c(x) - self.get_payoff(x, k)\n",
    "    x_star = optimize.fsolve(optim, x0 = k)\n",
    "\n",
    "    # Conditions on x_star\n",
    "    if x_star > self._b:\n",
    "      x_star = self._b\n",
    "    elif x_star < self._a:\n",
    "      x_star = self._a\n",
    "\n",
    "    return x_star\n",
    "\n",
    "\n",
    "\n",
    "######################################################     \n",
    "#     FUNCTIONS TO COMPUTE THE APPROXIMATION         #\n",
    "#         OF THE CONTINUATION FUNCTION               #\n",
    "######################################################\n",
    "\n",
    "  def get_u_vector(self, v_mat, k):\n",
    "    '''\n",
    "    Compute the u vector to get the approximation of the continuation function on t_{m}.\n",
    "    :param model: Model which contains the characteristic function to be used\n",
    "    :param v_mat: Cosine coefficients of the option value at time t_{m+1}\n",
    "    :param k: Log-moneyness of the options\n",
    "    :return: The U vector to compute the approximation of the continuation function\n",
    "    '''\n",
    "    # Construct the U vector\n",
    "    u = np.ones(self._grid_size, dtype=complex)[:, np.newaxis]\n",
    "\n",
    "    # Complete the vector\n",
    "    for j in range(0, len(u)):\n",
    "      if j == 0:\n",
    "        u[j] = 0.5 * self._model.characteristic_function(0) * v_mat[j]\n",
    "      else:\n",
    "        u[j] = self._model.characteristic_function(j * np.pi/(self._b-self._a)) * v_mat[j]  \n",
    "    return u\n",
    "\n",
    "  def get_Mc_Ms_matrix(self, x_1, x_2):\n",
    "    '''\n",
    "    Compute M_c and M_s matrix which will be used in the computation of the continuous function.\n",
    "    :param x_1: Lower bound of the inner integration interval\n",
    "    :param x_2: Upper bound of the inner integration interval\n",
    "    :return: M_c and M_s matrix which are time invariant\n",
    "    '''\n",
    "\n",
    "    # Initialize both matrix\n",
    "    m_c = np.ones((self._grid_size, self._grid_size), dtype=complex)\n",
    "    m_s = np.ones((self._grid_size, self._grid_size), dtype=complex)\n",
    "\n",
    "    # Loop on row and columns to compute the coefficient\n",
    "    for k in np.arange(self._grid_size):\n",
    "      for j in np.arange(self._grid_size):\n",
    "        # Compute m_c\n",
    "        if k == j:\n",
    "          m_c[k,j] = np.pi*1j*(x_2-x_1)/(self._b-self._a)\n",
    "        else:\n",
    "          m_c[k,j] = ( np.exp(1j*(j+k) * np.pi*(x_2-self._a)/(self._b-self._a)) - np.exp(1j*(j+k) * np.pi*(x_1-self._a)/(self._b-self._a)) )/(j+k)\n",
    "        \n",
    "        # Compute m_s\n",
    "        if k == j:\n",
    "          m_s[k,j] = np.pi*1j*(x_2-x_1)/(self._b-self._a)\n",
    "        else:\n",
    "          m_s[k,j] = ( np.exp(1j*(j+k) * np.pi*(x_2-self._a)/(self._b-self._a)) - np.exp(1j*(j+k) * np.pi*(x_1-self._a)/(self._b-self._a)) )/(j+k)\n",
    "    return m_c, m_s\n",
    "\n",
    "  def get_C_hat_matrix(self, x_1, x_2, u):\n",
    "    '''\n",
    "    Compute the C_hat function which is the approximation of the continuation function between x_1 and x_2.\n",
    "    Eq. 36 in our paper\n",
    "    :param x_1: Lower bound of the inner integration interval\n",
    "    :param x_2: Upper bound of the inner integration interval\n",
    "    '''\n",
    "\n",
    "    # Get the Mc and Ms matrix between x_1 and x_2\n",
    "    m_c, m_s = self.get_Mc_Ms_matrix(x_1, x_2)\n",
    "\n",
    "    # Compute the C_hat value between x_1 and x_2 \n",
    "    c_hat = np.imag(np.dot((m_c + m_s),u)) * np.exp(-self._model.rf*self._model.mat)/np.pi\n",
    "\n",
    "    return c_hat\n",
    "  "
   ]
  },
  {
   "cell_type": "code",
   "execution_count": null,
   "metadata": {
    "id": "4LIZvEl-67m3"
   },
   "outputs": [],
   "source": [
    "class Fourier_Carr_Madan_Method(object):\n",
    "\n",
    "  def __init__(self):\n",
    "    pass\n",
    "\n",
    "  @staticmethod\n",
    "  def Call_Price_Heston(S, K, T, r, kappa, theta, nu, rho, V_0, alpha=1, L=1000):\n",
    "    '''\n",
    "    Function to compute option price using Fourier Carr-Madan method\n",
    "    :param S: Initial Price\n",
    "    :param K: Strike\n",
    "    :param r: risk free rate\n",
    "    :param kappa: Rate at which the dynamic return to its long term value\n",
    "    :param theta: Long variance, or long-run average variance of the price\n",
    "    :param nu: Long term value of the dynamic\n",
    "    :param rho: correlation of the two Wienner processes\n",
    "    :param V_0: initial volatility \n",
    "    :param alpha: Damping factor (alpha>0) typically alpha = 1\n",
    "    :param L: Truncation bound for the integral\n",
    "    '''\n",
    "    # Complex number\n",
    "    i = complex(0,1)\n",
    "\n",
    "    b = lambda x: (kappa - 1j*rho*nu*x)\n",
    "    gamma = lambda x: (np.sqrt(nu**(2) * (x**2+1j+x) + b(x)**2))\n",
    "    a = lambda x: (b(x) / gamma(x)) * np.sinh(T*.5*gamma(x))\n",
    "    c = lambda x:(gamma(x) * np.cosh(.5*T*gamma(x))) / np.sinh(T*.5*gamma(x)+b(x))\n",
    "    d = lambda x:(kappa*theta*T*b(x) / nu**2)\n",
    "\n",
    "    f = lambda x:(1j * (np.log(S)+r*T) * x + d(x))\n",
    "    g = lambda x:(np.cosh(T*.5*gamma(x)) + a(x)) ** (2*kappa*theta / nu**2)\n",
    "    h = lambda x:(- (x**2+1j*x) * V_0 / c(x))\n",
    "\n",
    "    phi = lambda x:(np.exp(f(x)) * np.exp(h(x)/g(x))) # Characteristics function\n",
    "\n",
    "    integrand = lambda x:( np.real( phi(x-1j*(alpha+1)) / ((alpha+1j*x) * (alpha+1+1j*x)) ) * np.exp(-1j*np.log(K)*x) )\n",
    "    integral = integrate.quad(integrand, 0, L)\n",
    "    price = ( np.exp(-r*T - alpha*np.log(K)) / np.pi ) * integral[0]\n",
    "    return price"
   ]
  },
  {
   "cell_type": "markdown",
   "metadata": {
    "id": "gKralCO157bZ"
   },
   "source": [
    "# Part I : European Options"
   ]
  },
  {
   "cell_type": "markdown",
   "metadata": {
    "id": "ucKxdoNOnaX_"
   },
   "source": [
    "## Part I. a) Compute prices using differents pricing methods"
   ]
  },
  {
   "cell_type": "code",
   "execution_count": null,
   "metadata": {
    "colab": {
     "base_uri": "https://localhost:8080/"
    },
    "id": "7sMFWP0Hb2rO",
    "outputId": "9d8d16c8-e209-475d-acf9-e0f80cee4a65"
   },
   "outputs": [
    {
     "name": "stdout",
     "output_type": "stream",
     "text": [
      "[0.12566444]\n"
     ]
    }
   ],
   "source": [
    "# SBM Cosine Expansion price\n",
    "price, strike = 100, 90\n",
    "riskfree, maturity = 0, 180/365\n",
    "sigma = .15\n",
    "log_moneyness = np.log(price/strike)\n",
    "\n",
    "model = SBM(sigma, riskfree, maturity)\n",
    "method = Fourier_cosine_method(model, log_moneyness, True, 2**10)\n",
    "premium = method.cosine_expansion()\n",
    "print(premium)"
   ]
  },
  {
   "cell_type": "code",
   "execution_count": null,
   "metadata": {
    "colab": {
     "base_uri": "https://localhost:8080/"
    },
    "id": "BRHOcFi0uW71",
    "outputId": "d3c9db28-5065-40ed-8678-a54f018534c3"
   },
   "outputs": [
    {
     "name": "stdout",
     "output_type": "stream",
     "text": [
      "[0.12337098]\n"
     ]
    }
   ],
   "source": [
    "# Heston Cosine Expansion price\n",
    "kappa = 1.5768\n",
    "theta = .12**2\n",
    "eta = .5751\n",
    "rho = -.0\n",
    "sigma = .12**2\n",
    "model = Heston(kappa, theta, rho, eta, riskfree, sigma, maturity)\n",
    "method = Fourier_cosine_method(model, log_moneyness, True, 2**10)\n",
    "premium = method.cosine_expansion()\n",
    "print(premium)"
   ]
  },
  {
   "cell_type": "code",
   "execution_count": null,
   "metadata": {
    "colab": {
     "base_uri": "https://localhost:8080/"
    },
    "id": "WFjOJiuGfib7",
    "outputId": "0953fb14-1318-4725-d18e-845c5a24d141"
   },
   "outputs": [
    {
     "name": "stdout",
     "output_type": "stream",
     "text": [
      "1.3022666030299189e-05\n"
     ]
    },
    {
     "name": "stderr",
     "output_type": "stream",
     "text": [
      "/usr/local/lib/python3.7/dist-packages/scipy/integrate/quadpack.py:453: ComplexWarning: Casting complex values to real discards the imaginary part\n",
      "  return _quadpack._qagse(func,a,b,args,full_output,epsabs,epsrel,limit)\n",
      "/usr/local/lib/python3.7/dist-packages/ipykernel_launcher.py:37: IntegrationWarning: The maximum number of subdivisions (50) has been achieved.\n",
      "  If increasing the limit yields no improvement it is advised to analyze \n",
      "  the integrand in order to determine the difficulties.  If the position of a \n",
      "  local difficulty can be determined (singularity, discontinuity) one will \n",
      "  probably gain from splitting up the interval and calling the integrator \n",
      "  on the subranges.  Perhaps a special-purpose integrator should be used.\n"
     ]
    }
   ],
   "source": [
    "# Heston price Carr-Madan Method *** A MODIFIER car le prix n'est pas en log moneyness***\n",
    "price = Fourier_Carr_Madan_Method.Call_Price_Heston(100, 90, maturity, riskfree, kappa, theta, eta, rho, sigma)\n",
    "print(price)"
   ]
  },
  {
   "cell_type": "code",
   "execution_count": null,
   "metadata": {
    "colab": {
     "base_uri": "https://localhost:8080/"
    },
    "id": "PcUVgJO9_KFt",
    "outputId": "7ce50ebc-934d-46d1-8b8d-5b72d5f9c22d"
   },
   "outputs": [
    {
     "name": "stderr",
     "output_type": "stream",
     "text": [
      "/usr/local/lib/python3.7/dist-packages/scipy/integrate/quadpack.py:453: ComplexWarning: Casting complex values to real discards the imaginary part\n",
      "  return _quadpack._qagse(func,a,b,args,full_output,epsabs,epsrel,limit)\n",
      "/usr/local/lib/python3.7/dist-packages/ipykernel_launcher.py:37: IntegrationWarning: The maximum number of subdivisions (50) has been achieved.\n",
      "  If increasing the limit yields no improvement it is advised to analyze \n",
      "  the integrand in order to determine the difficulties.  If the position of a \n",
      "  local difficulty can be determined (singularity, discontinuity) one will \n",
      "  probably gain from splitting up the interval and calling the integrator \n",
      "  on the subranges.  Perhaps a special-purpose integrator should be used.\n"
     ]
    }
   ],
   "source": [
    "prices = []\n",
    "strikes = np.arange(20,180,1)\n",
    "for k in strikes:\n",
    "  prices.append(Fourier_Carr_Madan_Method.Call_Price_Heston(100, k, maturity, riskfree, kappa, theta, eta, rho, sigma))"
   ]
  },
  {
   "cell_type": "code",
   "execution_count": null,
   "metadata": {
    "colab": {
     "base_uri": "https://localhost:8080/",
     "height": 279
    },
    "id": "mJlzYdqi_31V",
    "outputId": "96f0a08d-1b47-48a7-bf96-d878fabfc7ce"
   },
   "outputs": [
    {
     "data": {
      "image/png": "[encoded data removed]",
      "text/plain": [
       "<Figure size 432x288 with 1 Axes>"
      ]
     },
     "metadata": {
      "needs_background": "light"
     },
     "output_type": "display_data"
    }
   ],
   "source": [
    "plt.plot(strikes, prices)\n",
    "plt.xlabel(\"Strike\")\n",
    "plt.ylabel(\"Price\")\n",
    "plt.show()"
   ]
  },
  {
   "cell_type": "markdown",
   "metadata": {
    "id": "fH4sQg_GWKl0"
   },
   "source": [
    "## Part I. b) Multiple strikes"
   ]
  },
  {
   "cell_type": "code",
   "execution_count": null,
   "metadata": {
    "id": "mk6wel0sXx7k"
   },
   "outputs": [],
   "source": [
    "# Number of option to price\n",
    "grid_size = 2000"
   ]
  },
  {
   "cell_type": "code",
   "execution_count": null,
   "metadata": {
    "colab": {
     "base_uri": "https://localhost:8080/",
     "height": 295
    },
    "id": "RD5SEfZvWR1F",
    "outputId": "92c7fd90-9fee-4541-c416-6cb022e298ed"
   },
   "outputs": [
    {
     "data": {
      "image/png": "[encoded data removed]",
      "text/plain": [
       "<Figure size 432x288 with 1 Axes>"
      ]
     },
     "metadata": {
      "needs_background": "light"
     },
     "output_type": "display_data"
    }
   ],
   "source": [
    "# SBM Cosine Expansion price\n",
    "\n",
    "# Initialize parameters\n",
    "riskfree, maturity = 0, 1/12\n",
    "sigma = .15\n",
    "price = 1\n",
    "strike = np.exp(np.linspace(-.1, .1, grid_size))\n",
    "log_moneyness = np.log(price/strike)\n",
    "call_option = False\n",
    "\n",
    "# Initialize the model and method\n",
    "model = SBM(sigma, riskfree, maturity)\n",
    "method = Fourier_cosine_method(model, log_moneyness, call_option, grid_size)\n",
    "\n",
    "# Compute premium of options\n",
    "premium = method.cosine_expansion()\n",
    "\n",
    "# Plot the strike/premium\n",
    "plt.plot(strike, premium)\n",
    "plt.xlabel(\"Moneyness S/K\")\n",
    "plt.ylabel(\"Premium\")\n",
    "if call_option:\n",
    "  plt.title(\"GBM Log Moneyness Call Option\")\n",
    "  plt.savefig('GMB_Call.png')\n",
    "else:\n",
    "  plt.title(\"GBM Log Moneyness Put Option\")\n",
    "  plt.savefig('GMB_Put.png')\n",
    "\n",
    "#plt.show()\n"
   ]
  },
  {
   "cell_type": "code",
   "execution_count": null,
   "metadata": {
    "colab": {
     "base_uri": "https://localhost:8080/",
     "height": 295
    },
    "id": "uCY7Fz77XY-e",
    "outputId": "d27d0278-9d50-40b1-a912-b1088d505f70"
   },
   "outputs": [
    {
     "data": {
      "image/png": "[encoded data removed]",
      "text/plain": [
       "<Figure size 432x288 with 1 Axes>"
      ]
     },
     "metadata": {
      "needs_background": "light"
     },
     "output_type": "display_data"
    }
   ],
   "source": [
    "# Heston Cosine Expansion price\n",
    "\n",
    "# Initialize parameters\n",
    "kappa = 1.5768\n",
    "theta = .12**2\n",
    "eta = .5751\n",
    "rho = -.0\n",
    "sigma = .12**2\n",
    "price = 1\n",
    "strike = np.exp(np.linspace(-.1, .1, grid_size))\n",
    "maturity = 1/12\n",
    "riskfree = np.zeros(grid_size)\n",
    "log_moneyness = np.log(price/strike)\n",
    "call_option = False\n",
    "\n",
    "# Initialize the model and method\n",
    "model = Heston(kappa, theta, rho, eta, riskfree, sigma, maturity)\n",
    "method = Fourier_cosine_method(model, log_moneyness, call_option, grid_size)\n",
    "\n",
    "# Compute premium of options\n",
    "premium = method.cosine_expansion()\n",
    "\n",
    "# Plot the strike/premium\n",
    "plt.plot(strike, premium)\n",
    "plt.xlabel(\"Moneyness S/K\")\n",
    "plt.ylabel(\"Premium\")\n",
    "if call_option:\n",
    "  plt.title(\"Heston Log Moneyness Call Option\")\n",
    "  plt.savefig('Heston_Call.png')\n",
    "else:\n",
    "  plt.title(\"Heston Log Moneyness Put Option\")\n",
    "  plt.savefig('Heston_Put.png')\n",
    "\n",
    "#plt.show()\n"
   ]
  },
  {
   "cell_type": "markdown",
   "metadata": {
    "id": "TIhz2smN6A83"
   },
   "source": [
    "# Part II. Bermuda Options"
   ]
  },
  {
   "cell_type": "markdown",
   "metadata": {
    "id": "U-PQGMHsBRls"
   },
   "source": [
    "## Part II. a) Compute bermuda option prices "
   ]
  },
  {
   "cell_type": "code",
   "execution_count": null,
   "metadata": {
    "colab": {
     "base_uri": "https://localhost:8080/"
    },
    "id": "C63N5G9PVS_P",
    "outputId": "524f3907-4eb5-4101-f6df-5641d78fbb7d"
   },
   "outputs": [
    {
     "name": "stdout",
     "output_type": "stream",
     "text": [
      "[0.10419196]\n"
     ]
    }
   ],
   "source": [
    "# SBM Cosine Expansion price\n",
    "price, strike = 100, 90\n",
    "riskfree, maturity = 0, 1.0\n",
    "sigma = .15\n",
    "log_moneyness = np.log(price/strike)\n",
    "\n",
    "model = SBM(sigma, riskfree, maturity)\n",
    "method = Fourier_cosine_method_bermuda(model, log_moneyness, grid_size, 2, True)\n",
    "premium = method.cosine_expansion()\n",
    "print(premium)"
   ]
  },
  {
   "cell_type": "code",
   "execution_count": null,
   "metadata": {
    "colab": {
     "base_uri": "https://localhost:8080/"
    },
    "id": "bKpizaLPtmW-",
    "outputId": "65b11342-ba06-42bf-c095-1581516ad0f8"
   },
   "outputs": [
    {
     "name": "stdout",
     "output_type": "stream",
     "text": [
      "[0.11033636]\n"
     ]
    }
   ],
   "source": [
    "# Heston Cosine Expansion price\n",
    "kappa = 1.5768\n",
    "theta = .12**2\n",
    "eta = .5751\n",
    "rho = -.0\n",
    "sigma = .12**2\n",
    "model = Heston(kappa, theta, rho, eta, riskfree, sigma, maturity)\n",
    "method = Fourier_cosine_method_bermuda(model, log_moneyness, grid_size, 2, True)\n",
    "premium = method.cosine_expansion()\n",
    "print(premium)"
   ]
  },
  {
   "cell_type": "markdown",
   "metadata": {
    "id": "hTsNtR89H4Xs"
   },
   "source": [
    "## Part II. b) Compute bermuda option prices fro multiple strikes"
   ]
  },
  {
   "cell_type": "code",
   "execution_count": null,
   "metadata": {
    "id": "l_QZGZ13H4El"
   },
   "outputs": [],
   "source": [
    "# SBM Cosine Expansion price\n",
    "\n",
    "# Initialize the parameters\n",
    "price = 1.0\n",
    "riskfree, maturity = 0, 1/12\n",
    "sigma = .15\n",
    "strike = np.exp(np.linspace(-.1, .1, grid_size))\n",
    "call_option = False\n",
    "stopping_time = 2\n",
    "grid_size = 100\n",
    "premiums = []\n",
    "\n",
    "# Initialize the model\n",
    "model = SBM(sigma, riskfree, maturity)\n",
    "\n",
    "# Loop on strikes\n",
    "for k in strike:\n",
    "  log_moneyness = np.log(price/k)\n",
    "  method = Fourier_cosine_method_bermuda(model, log_moneyness, grid_size, stopping_time, call_option)\n",
    "  result = method.cosine_expansion()\n",
    "  #if result < 0.0:\n",
    "   # result = 0.0\n",
    "  premiums.append(result)\n"
   ]
  },
  {
   "cell_type": "code",
   "execution_count": null,
   "metadata": {
    "colab": {
     "base_uri": "https://localhost:8080/",
     "height": 349
    },
    "id": "aN6tWq6PSzjV",
    "outputId": "d539afa1-2964-4a40-c823-05892ca0e727"
   },
   "outputs": [
    {
     "name": "stderr",
     "output_type": "stream",
     "text": [
      "/usr/local/lib/python3.7/dist-packages/numpy/core/shape_base.py:65: VisibleDeprecationWarning: Creating an ndarray from ragged nested sequences (which is a list-or-tuple of lists-or-tuples-or ndarrays with different lengths or shapes) is deprecated. If you meant to do this, you must specify 'dtype=object' when creating the ndarray.\n",
      "  ary = asanyarray(ary)\n"
     ]
    },
    {
     "data": {
      "image/png": "[encoded data removed]",
      "text/plain": [
       "<Figure size 432x288 with 1 Axes>"
      ]
     },
     "metadata": {
      "needs_background": "light"
     },
     "output_type": "display_data"
    }
   ],
   "source": [
    "plt.plot(strike, premiums)\n",
    "plt.xlabel(\"Moneyness S/K\")\n",
    "plt.ylabel(\"Premium\")\n",
    "if call_option:\n",
    "  plt.title(\"GBM Log Moneyness Bermudan Call Option\")\n",
    "  plt.savefig('GBM_B_Call_mid.png')\n",
    "else:\n",
    "  plt.title(\"GBM Log Moneyness Bermudan Put Option\")\n",
    "  plt.savefig('GBM_B_Put_mid.png')"
   ]
  },
  {
   "cell_type": "code",
   "execution_count": null,
   "metadata": {
    "colab": {
     "base_uri": "https://localhost:8080/",
     "height": 295
    },
    "id": "hFrQcy-UEP2I",
    "outputId": "65a6abca-85ed-4310-fee3-2b47af433200"
   },
   "outputs": [
    {
     "data": {
      "image/png": "[encoded data removed]",
      "text/plain": [
       "<Figure size 432x288 with 1 Axes>"
      ]
     },
     "metadata": {
      "needs_background": "light"
     },
     "output_type": "display_data"
    }
   ],
   "source": [
    "plt.plot(strike, premiums)\n",
    "plt.xlabel(\"Moneyness S/K\")\n",
    "plt.ylabel(\"Premium\")\n",
    "if call_option:\n",
    "  plt.title(\"GBM Log Moneyness Bermudan Call Option\")\n",
    "  plt.savefig('GBM_B_Call_lower.png')\n",
    "else:\n",
    "  plt.title(\"GBM Log Moneyness Bermudan Put Option\")\n",
    "  plt.savefig('GBM_B_Put_lower.png')"
   ]
  },
  {
   "cell_type": "code",
   "execution_count": null,
   "metadata": {
    "colab": {
     "base_uri": "https://localhost:8080/",
     "height": 295
    },
    "id": "LTs0WBaHK-yD",
    "outputId": "dba250b4-962f-467b-b938-42026e8d2a53"
   },
   "outputs": [
    {
     "data": {
      "image/png": "[encoded data removed]",
      "text/plain": [
       "<Figure size 432x288 with 1 Axes>"
      ]
     },
     "metadata": {
      "needs_background": "light"
     },
     "output_type": "display_data"
    }
   ],
   "source": [
    "plt.plot(strike, premiums)\n",
    "plt.xlabel(\"Moneyness S/K\")\n",
    "plt.ylabel(\"Premium\")\n",
    "if call_option:\n",
    "  plt.title(\"GBM Log Moneyness Bermudan Call Option\")\n",
    "  plt.savefig('GBM_B_Call_upper.png')\n",
    "else:\n",
    "  plt.title(\"GBM Log Moneyness Bermudan Put Option\")\n",
    "  plt.savefig('GBM_B_Put_upper.png')"
   ]
  }
 ],
 "metadata": {
  "colab": {
   "collapsed_sections": [],
   "name": "Fang_Osterlee.ipynb",
   "provenance": []
  },
  "kernelspec": {
   "display_name": "Python 3",
   "language": "python",
   "name": "python3"
  },
  "language_info": {
   "codemirror_mode": {
    "name": "ipython",
    "version": 3
   },
   "file_extension": ".py",
   "mimetype": "text/x-python",
   "name": "python",
   "nbconvert_exporter": "python",
   "pygments_lexer": "ipython3",
   "version": "3.7.4"
  }
 },
 "nbformat": 4,
 "nbformat_minor": 1
}
